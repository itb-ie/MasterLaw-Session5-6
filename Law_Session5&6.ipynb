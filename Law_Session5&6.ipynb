{
  "nbformat": 4,
  "nbformat_minor": 0,
  "metadata": {
    "colab": {
      "name": "Law Session5&6.ipynb",
      "provenance": [],
      "collapsed_sections": [],
      "toc_visible": true,
      "authorship_tag": "ABX9TyO+R3mzV9Xp33eYJwOul5x4",
      "include_colab_link": true
    },
    "kernelspec": {
      "name": "python3",
      "display_name": "Python 3"
    }
  },
  "cells": [
    {
      "cell_type": "markdown",
      "metadata": {
        "id": "view-in-github",
        "colab_type": "text"
      },
      "source": [
        "<a href=\"https://colab.research.google.com/github/itb-ie/MasterLaw-Session5-6/blob/master/Law_Session5%266.ipynb\" target=\"_parent\"><img src=\"https://colab.research.google.com/assets/colab-badge.svg\" alt=\"Open In Colab\"/></a>"
      ]
    },
    {
      "cell_type": "markdown",
      "metadata": {
        "id": "1BeohUFW19v3",
        "colab_type": "text"
      },
      "source": [
        "<img src='https://raw.githubusercontent.com/itb-ie/MasterLaw-Session1-2/master/Title.png'>\n",
        "\n",
        "<img src='https://datawider.com/wp-content/uploads/2019/11/How-to-Learn-Python.jpg' width=500px />\n",
        "\n",
        "<img src='https://pprablog.files.wordpress.com/2015/03/gravel.jpg' width=330px />\n",
        "\n",
        "<br><br>\n",
        "# <center>Sessions 5&6 </center>\n",
        "\n"
      ]
    },
    {
      "cell_type": "markdown",
      "metadata": {
        "id": "Y8UzpERC2VXZ",
        "colab_type": "text"
      },
      "source": [
        "# Recap Session 3&4\n",
        "<img src='https://github.com/itb-ie/MasterLaw-Session3-4/raw/master/Picture3.png' width=600px/>"
      ]
    },
    {
      "cell_type": "markdown",
      "metadata": {
        "id": "9YkgOr7YF9XX",
        "colab_type": "text"
      },
      "source": [
        "# Homework Questions"
      ]
    },
    {
      "cell_type": "markdown",
      "metadata": {
        "id": "GWMSygVm5OMw",
        "colab_type": "text"
      },
      "source": [
        "# Battle Plan\n",
        "\n",
        "![plan](https://github.com/itb-ie/MasterLaw-Session5-6/raw/master/home-alone-battle-plan-paul-van-scott.jpg)\n",
        "\n",
        "\n",
        "1.   Define the Problem\n",
        "2.   Break It Down Into Pieces\n",
        "3.   Solve Each Piece\n",
        "4.   Put It All Together\n",
        "5.   Create Executable File\n",
        "\n",
        "\n",
        "\n"
      ]
    },
    {
      "cell_type": "markdown",
      "metadata": {
        "id": "srW1GErZ8ANu",
        "colab_type": "text"
      },
      "source": [
        "## Define the Problem\n",
        "\n",
        "One of the most repetitive tasks that we were able to identify in this line of work is the filling in of certain templates. Those templates could be contracts, forms, letters, emails. <br>\n",
        "A lot of time can be saved if we create a program that makes the fill in of a template much easier. <br>\n",
        "Let us focus on a contract generator. \n",
        "\n"
      ]
    },
    {
      "cell_type": "markdown",
      "metadata": {
        "id": "P3A33OE99Zpb",
        "colab_type": "text"
      },
      "source": [
        "## Break it down into smaller pieces\n",
        "What is the functionality?\n",
        "\n",
        "\n",
        "1.   Starting from a template, it needs to fill in the template with the information provided\n",
        "2.   The contracts need to be saved in Doc format\n",
        "2.   A GUI is needed\n",
        "3.   Need to be able to view the contract after it was generated. Also need to print, change, save\n",
        "4.   Need to be able to generate a batch of contracts. Use an Excel file and generate all the contracts based on that file\n",
        "5.   Need to run the program as standalone, without the need of python, pycharm, etc\n",
        "\n"
      ]
    },
    {
      "cell_type": "markdown",
      "metadata": {
        "id": "mA3KyO7tPOlj",
        "colab_type": "text"
      },
      "source": [
        "## Template Filling\n",
        "1. How do we create and fill in a template? <br>\n",
        "First step if to get a template from somewhere. Ideally your company shoudl have a template that you are using. If that is in a doc file, you just copy paste it into a text editor, so you are left with the template in text form. \n",
        "2. How do we fill in a template? <br>\n",
        "  We identify the places where the **wildcard** is and replace them with {}. Then we use the format() string method to add the wildcard in. Check out this example:"
      ]
    },
    {
      "cell_type": "code",
      "metadata": {
        "id": "wCprianESfem",
        "colab_type": "code",
        "colab": {}
      },
      "source": [
        "name = input(\"What is the name of the lawyer?\")\n",
        "sum = input(\"What is the fee?\")\n",
        "text = \"This contract is between Bogdan and {}. {} will charge {} per hour for legal services.\"\n",
        "\n",
        "# fill in the template using format\n",
        "filled_text = text.format(name, name, sum)\n",
        "print(filled_text)"
      ],
      "execution_count": null,
      "outputs": []
    },
    {
      "cell_type": "markdown",
      "metadata": {
        "id": "JaWXzC8MTNtP",
        "colab_type": "text"
      },
      "source": [
        "**This is the main ideea. You will create a much biger template and fill it in with a lot more information. But the idea stays the same.**"
      ]
    },
    {
      "cell_type": "markdown",
      "metadata": {
        "id": "Ugmyl2nDV9YR",
        "colab_type": "text"
      },
      "source": [
        "## Saving as DOC\n",
        "This is something we have done before. The python-docx library is used to achieve this functionality. <br>\n",
        "Once we have the contract in text format, we can save it as a doc like this:"
      ]
    },
    {
      "cell_type": "code",
      "metadata": {
        "id": "tnFoWyzsWNu7",
        "colab_type": "code",
        "colab": {}
      },
      "source": [
        "! pip install python-docx"
      ],
      "execution_count": null,
      "outputs": []
    },
    {
      "cell_type": "code",
      "metadata": {
        "id": "GM2WujkuW6ba",
        "colab_type": "code",
        "colab": {}
      },
      "source": [
        "import docx\n",
        "from docx.enum.text import WD_ALIGN_PARAGRAPH\n",
        "from docx.shared import Pt\n",
        "from docx.shared import RGBColor\n",
        "\n",
        "doc = docx.Document()\n",
        "\n",
        "# title\n",
        "para = doc.add_paragraph()\n",
        "para.alignment = WD_ALIGN_PARAGRAPH.CENTER\n",
        "run = para.add_run(\"Super Bulletproof Contract\")\n",
        "run.font.name = \"Times New Roman\"\n",
        "run.font.size = Pt(30)\n",
        "run.font.bold = True\n",
        "\n",
        "# body  \n",
        "para = doc.add_paragraph()\n",
        "para.alignment = WD_ALIGN_PARAGRAPH.LEFT\n",
        "run = para.add_run(\"This is the body of the contract. It is amazing.\")\n",
        "run.font.name = \"Times New Roman\"\n",
        "run.font.size = Pt(12)\n",
        "run.font.color.rgb = RGBColor(0x42, 0x24, 0xE9)\n",
        "\n",
        "# save the file\n",
        "doc.save(\"Contract.docx\")\n"
      ],
      "execution_count": 8,
      "outputs": []
    },
    {
      "cell_type": "markdown",
      "metadata": {
        "id": "WKtmWmxFZBDj",
        "colab_type": "text"
      },
      "source": [
        "## THE GUI\n",
        "![img](https://github.com/itb-ie/MasterLaw-Session5-6/raw/master/not-this-again-300x300.jpg)\n",
        "<br>\n",
        "The GUI is the same as what we have used before: a better arrabged collection of label, entries and buttons. <br>\n",
        "I used ttkthemes to make it a bit better looking. This means that you need to install ttkthemes. <br>\n",
        "\n",
        "Here is a short explanation:\n",
        "\n"
      ]
    },
    {
      "cell_type": "markdown",
      "metadata": {
        "id": "849qIj5ldHf-",
        "colab_type": "text"
      },
      "source": [
        ""
      ]
    }
  ]
}